{
 "cells": [
  {
   "cell_type": "code",
   "execution_count": 1,
   "metadata": {},
   "outputs": [],
   "source": [
    "import time\n",
    "import re\n",
    "import pandas as pd\n",
    "\n",
    "from selenium import webdriver\n",
    "from selenium.webdriver.common.keys import Keys\n",
    "from selenium.webdriver.support import expected_conditions as EC\n",
    "from selenium.webdriver.support.ui import WebDriverWait\n",
    "from selenium.common.exceptions import TimeoutException\n",
    "from selenium.webdriver.common.by import By\n",
    "\n",
    "from tqdm import tqdm"
   ]
  },
  {
   "cell_type": "code",
   "execution_count": 2,
   "metadata": {},
   "outputs": [
    {
     "name": "stderr",
     "output_type": "stream",
     "text": [
      "100%|██████████| 60/60 [02:03<00:00,  2.05s/it]\n"
     ]
    }
   ],
   "source": [
    "page_url = \"https://play.google.com/store/apps/details?id=com.cermati.app&hl=in&showAllReviews=true\"\n",
    "driver = webdriver.Chrome()\n",
    "driver.get(page_url)\n",
    "\n",
    "SCROLL_PAUSE_TIME = 2\n",
    "CYCLES = 140\n",
    "\n",
    "html = driver.find_element_by_tag_name('html')\n",
    "html.send_keys(Keys.PAGE_DOWN)  \n",
    "html.send_keys(Keys.PAGE_DOWN)  \n",
    "time.sleep(SCROLL_PAUSE_TIME * 3)\n",
    "\n",
    "for i in tqdm (range(CYCLES)):\n",
    "    html.send_keys(Keys.END)\n",
    "    time.sleep(SCROLL_PAUSE_TIME)"
   ]
  },
  {
   "cell_type": "markdown",
   "metadata": {},
   "source": [
    "# 1. Scrap Apple Play Games (Winata Syahputra)"
   ]
  },
  {
   "cell_type": "code",
   "execution_count": 52,
   "metadata": {},
   "outputs": [],
   "source": [
    "v_komen = driver.find_elements_by_xpath('//*[@class = \"UD7Dzf\"]/span[1]')\n",
    "v_pengguna = driver.find_elements_by_xpath('//*[@class=\"bAhLNe kx8XBd\"]/span[@class = \"X43Kjb\"]')\n",
    "v_tanggal = driver.find_elements_by_xpath('//*[@class=\"bAhLNe kx8XBd\"]/div/span[@class=\"p2TkOb\"]')\n",
    "v_bintang = driver.find_elements_by_xpath('//*[@class=\"nt2C1d\"]/div[@class = \"pf5lIe\"]/div')"
   ]
  },
  {
   "cell_type": "code",
   "execution_count": 121,
   "metadata": {},
   "outputs": [
    {
     "name": "stderr",
     "output_type": "stream",
     "text": [
      "100%|██████████| 4969/4969 [21:11<00:00,  3.91it/s]\n"
     ]
    }
   ],
   "source": [
    "pengguna = []\n",
    "tanggal = []\n",
    "komen = []\n",
    "\n",
    "number_of_items = len(v_pengguna)\n",
    "for berita in tqdm (range(number_of_items)):\n",
    "    pengguna.append(str(v_pengguna[berita].text))\n",
    "    tanggal.append(str(v_tanggal[berita].text))\n",
    "    komen.append(str(v_komen[berita].text))"
   ]
  },
  {
   "cell_type": "code",
   "execution_count": 163,
   "metadata": {},
   "outputs": [
    {
     "name": "stderr",
     "output_type": "stream",
     "text": [
      "100%|██████████| 4969/4969 [07:12<00:00, 11.48it/s]\n"
     ]
    }
   ],
   "source": [
    "bintang = []\n",
    "for alamat in tqdm(v_bintang):\n",
    "    bintang.append(alamat.get_attribute('aria-label'))"
   ]
  },
  {
   "cell_type": "code",
   "execution_count": 188,
   "metadata": {},
   "outputs": [],
   "source": [
    "df = pd.DataFrame()\n",
    "df[\"Bintang\"] = bintang\n",
    "df[\"Pengguna\"] = pengguna\n",
    "df[\"Komen\"] = komen\n",
    "df[\"Tanggal\"] = tanggal"
   ]
  },
  {
   "cell_type": "code",
   "execution_count": 190,
   "metadata": {},
   "outputs": [],
   "source": [
    "df.to_csv(\"Komen Play Store Cermati.csv\")"
   ]
  }
 ],
 "metadata": {
  "kernelspec": {
   "display_name": "Python 3",
   "language": "python",
   "name": "python3"
  },
  "language_info": {
   "codemirror_mode": {
    "name": "ipython",
    "version": 3
   },
   "file_extension": ".py",
   "mimetype": "text/x-python",
   "name": "python",
   "nbconvert_exporter": "python",
   "pygments_lexer": "ipython3",
   "version": "3.7.1"
  }
 },
 "nbformat": 4,
 "nbformat_minor": 2
}
